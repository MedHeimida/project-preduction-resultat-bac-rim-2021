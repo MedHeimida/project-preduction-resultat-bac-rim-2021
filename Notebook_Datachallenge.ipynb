{
 "cells": [
  {
   "cell_type": "code",
   "execution_count": 1,
   "id": "86aa0fe0",
   "metadata": {},
   "outputs": [],
   "source": [
    "import pandas as pd"
   ]
  },
  {
   "cell_type": "code",
   "execution_count": 2,
   "id": "2b9a7989",
   "metadata": {},
   "outputs": [],
   "source": [
    "# Chargement des données\n",
    "train_data = pd.read_csv(\"C://Users//hp//AppData//Roaming//Microsoft\\Windows\\Start Menu//Programs//Anaconda3 (32-bit)//bac-mauritanie-2022-predictive-modeling-challeng//train_set.csv\")\n",
    "test_data = pd.read_csv(\"C://Users//hp//AppData//Roaming//Microsoft\\Windows\\Start Menu//Programs//Anaconda3 (32-bit)//bac-mauritanie-2022-predictive-modeling-challeng//test_set.csv\", sep=';')\n"
   ]
  },
  {
   "cell_type": "code",
   "execution_count": 3,
   "id": "b3a48397",
   "metadata": {},
   "outputs": [
    {
     "data": {
      "text/html": [
       "<div>\n",
       "<style scoped>\n",
       "    .dataframe tbody tr th:only-of-type {\n",
       "        vertical-align: middle;\n",
       "    }\n",
       "\n",
       "    .dataframe tbody tr th {\n",
       "        vertical-align: top;\n",
       "    }\n",
       "\n",
       "    .dataframe thead th {\n",
       "        text-align: right;\n",
       "    }\n",
       "</style>\n",
       "<table border=\"1\" class=\"dataframe\">\n",
       "  <thead>\n",
       "    <tr style=\"text-align: right;\">\n",
       "      <th></th>\n",
       "      <th>Unnamed: 0</th>\n",
       "      <th>Nom</th>\n",
       "      <th>Serie,x</th>\n",
       "      <th>GroupeAnonymat</th>\n",
       "      <th>LieuNaissance</th>\n",
       "      <th>Centre</th>\n",
       "      <th>Etablissement</th>\n",
       "      <th>moyeneGeneral</th>\n",
       "      <th>Decision</th>\n",
       "      <th>Note1</th>\n",
       "      <th>...</th>\n",
       "      <th>Note3</th>\n",
       "      <th>Note4</th>\n",
       "      <th>Note5</th>\n",
       "      <th>Note6</th>\n",
       "      <th>Note7</th>\n",
       "      <th>Note8</th>\n",
       "      <th>Willaya</th>\n",
       "      <th>moughataa</th>\n",
       "      <th>DateNaissance</th>\n",
       "      <th>ID</th>\n",
       "    </tr>\n",
       "  </thead>\n",
       "  <tbody>\n",
       "    <tr>\n",
       "      <th>0</th>\n",
       "      <td>27634</td>\n",
       "      <td>El Ide Brahim M'Hadi</td>\n",
       "      <td>SN</td>\n",
       "      <td>SN09</td>\n",
       "      <td>Bathet meit</td>\n",
       "      <td>Lycée Jedida</td>\n",
       "      <td>Lycée Jedida</td>\n",
       "      <td>4.601562</td>\n",
       "      <td>Ajourné</td>\n",
       "      <td>1.625</td>\n",
       "      <td>...</td>\n",
       "      <td>5.00</td>\n",
       "      <td>5.500</td>\n",
       "      <td>3.00</td>\n",
       "      <td>7.75</td>\n",
       "      <td>7.50</td>\n",
       "      <td>18.5</td>\n",
       "      <td>Nouakchott 2 (Ouest)</td>\n",
       "      <td>KSAR</td>\n",
       "      <td>12 ديسمبر 1998</td>\n",
       "      <td>ID_27634</td>\n",
       "    </tr>\n",
       "    <tr>\n",
       "      <th>1</th>\n",
       "      <td>36311</td>\n",
       "      <td>Mariem Yedaly Afane</td>\n",
       "      <td>LO</td>\n",
       "      <td>LO1</td>\n",
       "      <td>Beir Taouress</td>\n",
       "      <td>Lycée Arafat 2 (A)</td>\n",
       "      <td>Lycée Arafat 2</td>\n",
       "      <td>7.625000</td>\n",
       "      <td>Ajourné</td>\n",
       "      <td>13.000</td>\n",
       "      <td>...</td>\n",
       "      <td>10.75</td>\n",
       "      <td>2.000</td>\n",
       "      <td>8.75</td>\n",
       "      <td>2.00</td>\n",
       "      <td>0.75</td>\n",
       "      <td>-1.0</td>\n",
       "      <td>Nouakchott 3 (Sud)</td>\n",
       "      <td>ARAFAT</td>\n",
       "      <td>26 ديسمبر 1991</td>\n",
       "      <td>ID_36311</td>\n",
       "    </tr>\n",
       "    <tr>\n",
       "      <th>2</th>\n",
       "      <td>21059</td>\n",
       "      <td>Aiche Jiyid Jiyid</td>\n",
       "      <td>LM</td>\n",
       "      <td>LM3</td>\n",
       "      <td>Akjoujt</td>\n",
       "      <td>Lycée Akjoujt</td>\n",
       "      <td>Lycée Akjoujt</td>\n",
       "      <td>6.894531</td>\n",
       "      <td>Ajourné</td>\n",
       "      <td>7.000</td>\n",
       "      <td>...</td>\n",
       "      <td>6.50</td>\n",
       "      <td>7.625</td>\n",
       "      <td>1.00</td>\n",
       "      <td>5.50</td>\n",
       "      <td>10.00</td>\n",
       "      <td>17.0</td>\n",
       "      <td>Inchiri</td>\n",
       "      <td>AKJOUJT</td>\n",
       "      <td>8 مايو 1995</td>\n",
       "      <td>ID_21059</td>\n",
       "    </tr>\n",
       "    <tr>\n",
       "      <th>3</th>\n",
       "      <td>24532</td>\n",
       "      <td>Ahmed Abd El Ghader Meissa</td>\n",
       "      <td>SN</td>\n",
       "      <td>SN06</td>\n",
       "      <td>Chelkhet Tiyab</td>\n",
       "      <td>Lycée Toujounine 1</td>\n",
       "      <td>Lycée Toujounine 1</td>\n",
       "      <td>4.859375</td>\n",
       "      <td>Ajourné</td>\n",
       "      <td>1.750</td>\n",
       "      <td>...</td>\n",
       "      <td>5.50</td>\n",
       "      <td>5.500</td>\n",
       "      <td>5.00</td>\n",
       "      <td>1.50</td>\n",
       "      <td>7.50</td>\n",
       "      <td>17.0</td>\n",
       "      <td>Nouakchott 1 (Nord)</td>\n",
       "      <td>TOUJOUNINE</td>\n",
       "      <td>24 avr. 1999</td>\n",
       "      <td>ID_24532</td>\n",
       "    </tr>\n",
       "    <tr>\n",
       "      <th>4</th>\n",
       "      <td>17861</td>\n",
       "      <td>Mariam Abdoulaye Ba</td>\n",
       "      <td>SN</td>\n",
       "      <td>SN03</td>\n",
       "      <td>Aere M'Bar</td>\n",
       "      <td>Lycée Nouadhibou 2</td>\n",
       "      <td>Lycée Wava Nouadhibou</td>\n",
       "      <td>3.548387</td>\n",
       "      <td>Ajourné</td>\n",
       "      <td>4.500</td>\n",
       "      <td>...</td>\n",
       "      <td>3.50</td>\n",
       "      <td>4.000</td>\n",
       "      <td>4.00</td>\n",
       "      <td>2.00</td>\n",
       "      <td>2.00</td>\n",
       "      <td>-1.0</td>\n",
       "      <td>Dakhlet NDB</td>\n",
       "      <td>NOUADHIBOU</td>\n",
       "      <td>10 mai 2001</td>\n",
       "      <td>ID_17861</td>\n",
       "    </tr>\n",
       "  </tbody>\n",
       "</table>\n",
       "<p>5 rows × 21 columns</p>\n",
       "</div>"
      ],
      "text/plain": [
       "   Unnamed: 0                         Nom Serie,x GroupeAnonymat  \\\n",
       "0       27634        El Ide Brahim M'Hadi      SN           SN09   \n",
       "1       36311         Mariem Yedaly Afane      LO            LO1   \n",
       "2       21059           Aiche Jiyid Jiyid      LM            LM3   \n",
       "3       24532  Ahmed Abd El Ghader Meissa      SN           SN06   \n",
       "4       17861         Mariam Abdoulaye Ba      SN           SN03   \n",
       "\n",
       "    LieuNaissance              Centre          Etablissement  moyeneGeneral  \\\n",
       "0     Bathet meit        Lycée Jedida           Lycée Jedida       4.601562   \n",
       "1   Beir Taouress  Lycée Arafat 2 (A)         Lycée Arafat 2       7.625000   \n",
       "2         Akjoujt       Lycée Akjoujt          Lycée Akjoujt       6.894531   \n",
       "3  Chelkhet Tiyab  Lycée Toujounine 1     Lycée Toujounine 1       4.859375   \n",
       "4      Aere M'Bar  Lycée Nouadhibou 2  Lycée Wava Nouadhibou       3.548387   \n",
       "\n",
       "  Decision   Note1  ...  Note3  Note4  Note5  Note6  Note7  Note8  \\\n",
       "0  Ajourné   1.625  ...   5.00  5.500   3.00   7.75   7.50   18.5   \n",
       "1  Ajourné  13.000  ...  10.75  2.000   8.75   2.00   0.75   -1.0   \n",
       "2  Ajourné   7.000  ...   6.50  7.625   1.00   5.50  10.00   17.0   \n",
       "3  Ajourné   1.750  ...   5.50  5.500   5.00   1.50   7.50   17.0   \n",
       "4  Ajourné   4.500  ...   3.50  4.000   4.00   2.00   2.00   -1.0   \n",
       "\n",
       "                Willaya   moughataa   DateNaissance        ID  \n",
       "0  Nouakchott 2 (Ouest)        KSAR  12 ديسمبر 1998  ID_27634  \n",
       "1    Nouakchott 3 (Sud)      ARAFAT  26 ديسمبر 1991  ID_36311  \n",
       "2               Inchiri     AKJOUJT     8 مايو 1995  ID_21059  \n",
       "3   Nouakchott 1 (Nord)  TOUJOUNINE    24 avr. 1999  ID_24532  \n",
       "4           Dakhlet NDB  NOUADHIBOU     10 mai 2001  ID_17861  \n",
       "\n",
       "[5 rows x 21 columns]"
      ]
     },
     "execution_count": 3,
     "metadata": {},
     "output_type": "execute_result"
    }
   ],
   "source": [
    "train_data.head()"
   ]
  },
  {
   "cell_type": "code",
   "execution_count": 4,
   "id": "51977200",
   "metadata": {},
   "outputs": [
    {
     "data": {
      "text/plain": [
       "Ajourné                                  18966\n",
       "Admis                                     1973\n",
       "Sessionnaire                              1530\n",
       "Abscent                                   1068\n",
       "Examen annulé à cause du Téléphone         351\n",
       "Examen annulé à cause du comportement        6\n",
       "Name: Decision, dtype: int64"
      ]
     },
     "execution_count": 4,
     "metadata": {},
     "output_type": "execute_result"
    }
   ],
   "source": [
    "train_data.Decision.value_counts()"
   ]
  },
  {
   "cell_type": "code",
   "execution_count": 5,
   "id": "647f6283",
   "metadata": {},
   "outputs": [],
   "source": [
    "# remplacer les modalité qui implique que le condidat est ajourné dans le session normale par le modalité ajourné\n",
    "\n",
    "train_data['Decision'] = train_data['Decision'].replace({'Sessionnaire': 'Ajourné', \"Abscent\" : \"Ajourné\",\"Examen annulé à cause du Téléphone\":\"Ajourné\",\"Examen annulé à cause du comportement\":\"Ajourné\"})"
   ]
  },
  {
   "cell_type": "code",
   "execution_count": 6,
   "id": "ca3ad6fb",
   "metadata": {},
   "outputs": [],
   "source": [
    "##nettoyer la colonne age \n",
    "train_data['age'] = train_data['DateNaissance'].apply(  \n",
    "    lambda x: int(x.split(\"-\")[2] if '-' in x else int(x.split(\" \")[2]) )\n",
    "    ).apply(lambda x : 2021 - x if x > 1900  else ( 121 - x if x > 21 else 21 - x))"
   ]
  },
  {
   "cell_type": "code",
   "execution_count": 7,
   "id": "3a384749",
   "metadata": {},
   "outputs": [
    {
     "data": {
      "text/plain": [
       "(23894, 22)"
      ]
     },
     "execution_count": 7,
     "metadata": {},
     "output_type": "execute_result"
    }
   ],
   "source": [
    "train_data.shape"
   ]
  },
  {
   "cell_type": "code",
   "execution_count": 8,
   "id": "cd99ac44",
   "metadata": {},
   "outputs": [
    {
     "data": {
      "text/plain": [
       "(15930, 12)"
      ]
     },
     "execution_count": 8,
     "metadata": {},
     "output_type": "execute_result"
    }
   ],
   "source": [
    "test_data.shape"
   ]
  },
  {
   "cell_type": "code",
   "execution_count": 9,
   "id": "94f898e5",
   "metadata": {},
   "outputs": [],
   "source": [
    "test_data.fillna(0, inplace=True)"
   ]
  },
  {
   "cell_type": "code",
   "execution_count": 10,
   "id": "b57fe1ae",
   "metadata": {},
   "outputs": [],
   "source": [
    "# importer une data frame qui indique la pauvreter a mauritanie pour m'aider bien a expliquer l'admission aux bac \n",
    "\n",
    "df_pauv= pd.read_csv(\"C://Users//hp//AppData//Roaming//Microsoft//Windows//Start Menu//Programs//Anaconda3 (32-bit)//dataset.csv\",sep =\";\")"
   ]
  },
  {
   "cell_type": "code",
   "execution_count": 11,
   "id": "c547b32b",
   "metadata": {},
   "outputs": [
    {
     "data": {
      "text/html": [
       "<div>\n",
       "<style scoped>\n",
       "    .dataframe tbody tr th:only-of-type {\n",
       "        vertical-align: middle;\n",
       "    }\n",
       "\n",
       "    .dataframe tbody tr th {\n",
       "        vertical-align: top;\n",
       "    }\n",
       "\n",
       "    .dataframe thead th {\n",
       "        text-align: right;\n",
       "    }\n",
       "</style>\n",
       "<table border=\"1\" class=\"dataframe\">\n",
       "  <thead>\n",
       "    <tr style=\"text-align: right;\">\n",
       "      <th></th>\n",
       "      <th>moughataa</th>\n",
       "      <th>willaya</th>\n",
       "      <th>p0</th>\n",
       "      <th>p1_</th>\n",
       "      <th>p2_</th>\n",
       "      <th>c0_</th>\n",
       "      <th>c1_</th>\n",
       "      <th>c2_</th>\n",
       "    </tr>\n",
       "  </thead>\n",
       "  <tbody>\n",
       "    <tr>\n",
       "      <th>0</th>\n",
       "      <td>Aioun</td>\n",
       "      <td>Hodh el Gharbi</td>\n",
       "      <td>41.5</td>\n",
       "      <td>11.4</td>\n",
       "      <td>4.5</td>\n",
       "      <td>3.6</td>\n",
       "      <td>2.9</td>\n",
       "      <td>2.4</td>\n",
       "    </tr>\n",
       "    <tr>\n",
       "      <th>1</th>\n",
       "      <td>Akjoujt</td>\n",
       "      <td>Inchiri</td>\n",
       "      <td>19.6</td>\n",
       "      <td>5.8</td>\n",
       "      <td>2.0</td>\n",
       "      <td>0.2</td>\n",
       "      <td>0.1</td>\n",
       "      <td>0.1</td>\n",
       "    </tr>\n",
       "    <tr>\n",
       "      <th>2</th>\n",
       "      <td>Aleg</td>\n",
       "      <td>Brakna</td>\n",
       "      <td>48.5</td>\n",
       "      <td>20.4</td>\n",
       "      <td>11.6</td>\n",
       "      <td>4.9</td>\n",
       "      <td>6.1</td>\n",
       "      <td>7.3</td>\n",
       "    </tr>\n",
       "    <tr>\n",
       "      <th>3</th>\n",
       "      <td>Amourj</td>\n",
       "      <td>Hodh ech Chargui</td>\n",
       "      <td>59.1</td>\n",
       "      <td>22.6</td>\n",
       "      <td>11.4</td>\n",
       "      <td>3.8</td>\n",
       "      <td>4.3</td>\n",
       "      <td>4.5</td>\n",
       "    </tr>\n",
       "    <tr>\n",
       "      <th>4</th>\n",
       "      <td>Aoujeft</td>\n",
       "      <td>Adrar</td>\n",
       "      <td>59.1</td>\n",
       "      <td>22.6</td>\n",
       "      <td>11.4</td>\n",
       "      <td>3.8</td>\n",
       "      <td>4.3</td>\n",
       "      <td>4.5</td>\n",
       "    </tr>\n",
       "  </tbody>\n",
       "</table>\n",
       "</div>"
      ],
      "text/plain": [
       "  moughataa           willaya    p0   p1_   p2_  c0_  c1_  c2_\n",
       "0     Aioun    Hodh el Gharbi  41.5  11.4   4.5  3.6  2.9  2.4\n",
       "1   Akjoujt           Inchiri  19.6   5.8   2.0  0.2  0.1  0.1\n",
       "2      Aleg            Brakna  48.5  20.4  11.6  4.9  6.1  7.3\n",
       "3    Amourj  Hodh ech Chargui  59.1  22.6  11.4  3.8  4.3  4.5\n",
       "4   Aoujeft             Adrar  59.1  22.6  11.4  3.8  4.3  4.5"
      ]
     },
     "execution_count": 11,
     "metadata": {},
     "output_type": "execute_result"
    }
   ],
   "source": [
    "df_pauv.head()"
   ]
  },
  {
   "cell_type": "code",
   "execution_count": 12,
   "id": "957facfa",
   "metadata": {},
   "outputs": [],
   "source": [
    "## on a entraint d obtenir l'indice de povreté par wilya\n",
    "\n",
    "data_wilya = df_pauv[[\"willaya\",\"p0\",\"p1_\",\"p2_\"]]"
   ]
  },
  {
   "cell_type": "code",
   "execution_count": 13,
   "id": "bda0412a",
   "metadata": {},
   "outputs": [
    {
     "name": "stderr",
     "output_type": "stream",
     "text": [
      "C:\\Users\\hp\\AppData\\Local\\Temp\\ipykernel_8724\\137976583.py:2: FutureWarning: Dropping of nuisance columns in DataFrame reductions (with 'numeric_only=None') is deprecated; in a future version this will raise TypeError.  Select only valid columns before calling the reduction.\n",
      "  data_wilya[\"Pauvreté\"] =  data_wilya.mean(axis=1)\n",
      "C:\\Users\\hp\\AppData\\Local\\Temp\\ipykernel_8724\\137976583.py:2: SettingWithCopyWarning: \n",
      "A value is trying to be set on a copy of a slice from a DataFrame.\n",
      "Try using .loc[row_indexer,col_indexer] = value instead\n",
      "\n",
      "See the caveats in the documentation: https://pandas.pydata.org/pandas-docs/stable/user_guide/indexing.html#returning-a-view-versus-a-copy\n",
      "  data_wilya[\"Pauvreté\"] =  data_wilya.mean(axis=1)\n"
     ]
    }
   ],
   "source": [
    "## approche d'indice de pauvrete\n",
    "data_wilya[\"Pauvreté\"] =  data_wilya.mean(axis=1)"
   ]
  },
  {
   "cell_type": "code",
   "execution_count": 14,
   "id": "72a7bdfa",
   "metadata": {},
   "outputs": [],
   "source": [
    "data_wilya = data_wilya.groupby(\"willaya\" ,as_index=False).mean()"
   ]
  },
  {
   "cell_type": "code",
   "execution_count": 15,
   "id": "973926e8",
   "metadata": {},
   "outputs": [
    {
     "data": {
      "text/html": [
       "<div>\n",
       "<style scoped>\n",
       "    .dataframe tbody tr th:only-of-type {\n",
       "        vertical-align: middle;\n",
       "    }\n",
       "\n",
       "    .dataframe tbody tr th {\n",
       "        vertical-align: top;\n",
       "    }\n",
       "\n",
       "    .dataframe thead th {\n",
       "        text-align: right;\n",
       "    }\n",
       "</style>\n",
       "<table border=\"1\" class=\"dataframe\">\n",
       "  <thead>\n",
       "    <tr style=\"text-align: right;\">\n",
       "      <th></th>\n",
       "      <th>willaya</th>\n",
       "      <th>p0</th>\n",
       "      <th>p1_</th>\n",
       "      <th>p2_</th>\n",
       "      <th>Pauvreté</th>\n",
       "    </tr>\n",
       "  </thead>\n",
       "  <tbody>\n",
       "    <tr>\n",
       "      <th>0</th>\n",
       "      <td>Adrar</td>\n",
       "      <td>58.166667</td>\n",
       "      <td>21.70</td>\n",
       "      <td>10.533333</td>\n",
       "      <td>30.133333</td>\n",
       "    </tr>\n",
       "    <tr>\n",
       "      <th>1</th>\n",
       "      <td>Assaba</td>\n",
       "      <td>48.560000</td>\n",
       "      <td>16.84</td>\n",
       "      <td>7.960000</td>\n",
       "      <td>24.453333</td>\n",
       "    </tr>\n",
       "    <tr>\n",
       "      <th>2</th>\n",
       "      <td>Brakna</td>\n",
       "      <td>54.980000</td>\n",
       "      <td>20.00</td>\n",
       "      <td>9.760000</td>\n",
       "      <td>28.246667</td>\n",
       "    </tr>\n",
       "    <tr>\n",
       "      <th>3</th>\n",
       "      <td>Dakhlet Nouadhibou</td>\n",
       "      <td>12.400000</td>\n",
       "      <td>2.50</td>\n",
       "      <td>0.600000</td>\n",
       "      <td>5.166667</td>\n",
       "    </tr>\n",
       "    <tr>\n",
       "      <th>4</th>\n",
       "      <td>Gorgol</td>\n",
       "      <td>59.875000</td>\n",
       "      <td>21.55</td>\n",
       "      <td>10.475000</td>\n",
       "      <td>30.633333</td>\n",
       "    </tr>\n",
       "  </tbody>\n",
       "</table>\n",
       "</div>"
      ],
      "text/plain": [
       "              willaya         p0    p1_        p2_   Pauvreté\n",
       "0               Adrar  58.166667  21.70  10.533333  30.133333\n",
       "1              Assaba  48.560000  16.84   7.960000  24.453333\n",
       "2              Brakna  54.980000  20.00   9.760000  28.246667\n",
       "3  Dakhlet Nouadhibou  12.400000   2.50   0.600000   5.166667\n",
       "4              Gorgol  59.875000  21.55  10.475000  30.633333"
      ]
     },
     "execution_count": 15,
     "metadata": {},
     "output_type": "execute_result"
    }
   ],
   "source": [
    "## induce de pauvrete\n",
    "data_wilya.head()"
   ]
  },
  {
   "cell_type": "code",
   "execution_count": 16,
   "id": "6b908598",
   "metadata": {},
   "outputs": [
    {
     "data": {
      "text/plain": [
       "array(['Adrar', 'Assaba', 'Brakna', 'Dakhlet Nouadhibou', 'Gorgol',\n",
       "       'Guidimaka', 'Hodh ech Chargui', 'Hodh el Gharbi', 'Inchiri',\n",
       "       'Nouakchott', 'Tagant', 'Tiris Zemmour', 'Trarza'], dtype=object)"
      ]
     },
     "execution_count": 16,
     "metadata": {},
     "output_type": "execute_result"
    }
   ],
   "source": [
    "data_wilya[\"willaya\"].unique()"
   ]
  },
  {
   "cell_type": "code",
   "execution_count": 17,
   "id": "f7ca1961",
   "metadata": {},
   "outputs": [],
   "source": [
    "##dupliquer la colonne willaya dans data train pour faire une chose va m'aider par suite\n",
    "train_data = train_data.assign(willaya=train_data['Willaya'])"
   ]
  },
  {
   "cell_type": "code",
   "execution_count": 18,
   "id": "8d7b4ad6",
   "metadata": {},
   "outputs": [],
   "source": [
    "# Créer une liste des modalités a meme nom que celle dans df_pauvrete\n",
    "modalites_a_remplacer = ['Nouakchott 1 (Nord)', 'Nouakchott 2 (Ouest)', 'Nouakchott 3 (Sud)']\n",
    "modalites_a_remplacer2 = [\"Dakhlet NDB\"]\n",
    "modalites_a_remplacer3=[\"Hod Charghy\"]\n",
    "modalites_a_remplacer4=[\"Hod Gharby\"]\n",
    "modalites_a_remplacer5=[\"Guidimagha\"]\n",
    "# Remplacer les modalités spécifiées par \"nktt\" et faire les autres modalités\n",
    "train_data[\"willaya\"] = train_data[\"willaya\"].replace(modalites_a_remplacer, 'Nouakchott')\n",
    "train_data[\"willaya\"] = train_data[\"willaya\"].replace(modalites_a_remplacer2, 'Dakhlet Nouadhibou')\n",
    "train_data[\"willaya\"] = train_data[\"willaya\"].replace(modalites_a_remplacer3, 'Hodh el Gharbi')\n",
    "train_data[\"willaya\"] = train_data[\"willaya\"].replace(modalites_a_remplacer4, 'Hodh ech Chargui')\n",
    "train_data[\"willaya\"] = train_data[\"willaya\"].replace(modalites_a_remplacer5, 'Guidimaka')\n",
    "modalites_a_remplacer5=[\"Tiris Zemour\"]\n",
    "train_data[\"willaya\"] = train_data[\"willaya\"].replace(modalites_a_remplacer5, 'Tiris Zemmour')"
   ]
  },
  {
   "cell_type": "code",
   "execution_count": 19,
   "id": "a3db3bd2",
   "metadata": {},
   "outputs": [
    {
     "data": {
      "text/html": [
       "<div>\n",
       "<style scoped>\n",
       "    .dataframe tbody tr th:only-of-type {\n",
       "        vertical-align: middle;\n",
       "    }\n",
       "\n",
       "    .dataframe tbody tr th {\n",
       "        vertical-align: top;\n",
       "    }\n",
       "\n",
       "    .dataframe thead th {\n",
       "        text-align: right;\n",
       "    }\n",
       "</style>\n",
       "<table border=\"1\" class=\"dataframe\">\n",
       "  <thead>\n",
       "    <tr style=\"text-align: right;\">\n",
       "      <th></th>\n",
       "      <th>Unnamed: 0</th>\n",
       "      <th>Nom</th>\n",
       "      <th>Serie,x</th>\n",
       "      <th>GroupeAnonymat</th>\n",
       "      <th>LieuNaissance</th>\n",
       "      <th>Centre</th>\n",
       "      <th>Etablissement</th>\n",
       "      <th>moyeneGeneral</th>\n",
       "      <th>Decision</th>\n",
       "      <th>Note1</th>\n",
       "      <th>...</th>\n",
       "      <th>Willaya</th>\n",
       "      <th>moughataa</th>\n",
       "      <th>DateNaissance</th>\n",
       "      <th>ID</th>\n",
       "      <th>age</th>\n",
       "      <th>willaya</th>\n",
       "      <th>p0</th>\n",
       "      <th>p1_</th>\n",
       "      <th>p2_</th>\n",
       "      <th>Pauvreté</th>\n",
       "    </tr>\n",
       "  </thead>\n",
       "  <tbody>\n",
       "    <tr>\n",
       "      <th>0</th>\n",
       "      <td>27634</td>\n",
       "      <td>El Ide Brahim M'Hadi</td>\n",
       "      <td>SN</td>\n",
       "      <td>SN09</td>\n",
       "      <td>Bathet meit</td>\n",
       "      <td>Lycée Jedida</td>\n",
       "      <td>Lycée Jedida</td>\n",
       "      <td>4.601562</td>\n",
       "      <td>Ajourné</td>\n",
       "      <td>1.625</td>\n",
       "      <td>...</td>\n",
       "      <td>Nouakchott 2 (Ouest)</td>\n",
       "      <td>KSAR</td>\n",
       "      <td>12 ديسمبر 1998</td>\n",
       "      <td>ID_27634</td>\n",
       "      <td>23</td>\n",
       "      <td>Nouakchott</td>\n",
       "      <td>10.69</td>\n",
       "      <td>2.31</td>\n",
       "      <td>0.77</td>\n",
       "      <td>4.59</td>\n",
       "    </tr>\n",
       "    <tr>\n",
       "      <th>1</th>\n",
       "      <td>36311</td>\n",
       "      <td>Mariem Yedaly Afane</td>\n",
       "      <td>LO</td>\n",
       "      <td>LO1</td>\n",
       "      <td>Beir Taouress</td>\n",
       "      <td>Lycée Arafat 2 (A)</td>\n",
       "      <td>Lycée Arafat 2</td>\n",
       "      <td>7.625000</td>\n",
       "      <td>Ajourné</td>\n",
       "      <td>13.000</td>\n",
       "      <td>...</td>\n",
       "      <td>Nouakchott 3 (Sud)</td>\n",
       "      <td>ARAFAT</td>\n",
       "      <td>26 ديسمبر 1991</td>\n",
       "      <td>ID_36311</td>\n",
       "      <td>30</td>\n",
       "      <td>Nouakchott</td>\n",
       "      <td>10.69</td>\n",
       "      <td>2.31</td>\n",
       "      <td>0.77</td>\n",
       "      <td>4.59</td>\n",
       "    </tr>\n",
       "    <tr>\n",
       "      <th>2</th>\n",
       "      <td>24532</td>\n",
       "      <td>Ahmed Abd El Ghader Meissa</td>\n",
       "      <td>SN</td>\n",
       "      <td>SN06</td>\n",
       "      <td>Chelkhet Tiyab</td>\n",
       "      <td>Lycée Toujounine 1</td>\n",
       "      <td>Lycée Toujounine 1</td>\n",
       "      <td>4.859375</td>\n",
       "      <td>Ajourné</td>\n",
       "      <td>1.750</td>\n",
       "      <td>...</td>\n",
       "      <td>Nouakchott 1 (Nord)</td>\n",
       "      <td>TOUJOUNINE</td>\n",
       "      <td>24 avr. 1999</td>\n",
       "      <td>ID_24532</td>\n",
       "      <td>22</td>\n",
       "      <td>Nouakchott</td>\n",
       "      <td>10.69</td>\n",
       "      <td>2.31</td>\n",
       "      <td>0.77</td>\n",
       "      <td>4.59</td>\n",
       "    </tr>\n",
       "    <tr>\n",
       "      <th>3</th>\n",
       "      <td>34064</td>\n",
       "      <td>Mohamed Alioun Mohamed Lemine</td>\n",
       "      <td>LM</td>\n",
       "      <td>LM4</td>\n",
       "      <td>Riyad</td>\n",
       "      <td>Ecole Sidi Abdoullah-Arafat</td>\n",
       "      <td>El Amriya</td>\n",
       "      <td>10.713542</td>\n",
       "      <td>Admis</td>\n",
       "      <td>13.500</td>\n",
       "      <td>...</td>\n",
       "      <td>Nouakchott 3 (Sud)</td>\n",
       "      <td>ARAFAT</td>\n",
       "      <td>24 ديسمبر 2000</td>\n",
       "      <td>ID_34064</td>\n",
       "      <td>21</td>\n",
       "      <td>Nouakchott</td>\n",
       "      <td>10.69</td>\n",
       "      <td>2.31</td>\n",
       "      <td>0.77</td>\n",
       "      <td>4.59</td>\n",
       "    </tr>\n",
       "    <tr>\n",
       "      <th>4</th>\n",
       "      <td>26060</td>\n",
       "      <td>Lalty Lalty N'Gome</td>\n",
       "      <td>M</td>\n",
       "      <td>M02</td>\n",
       "      <td>Rosso</td>\n",
       "      <td>Ecole Youssouf Dar Naim</td>\n",
       "      <td>Lycée Dar Naim 1</td>\n",
       "      <td>5.132812</td>\n",
       "      <td>Ajourné</td>\n",
       "      <td>1.750</td>\n",
       "      <td>...</td>\n",
       "      <td>Nouakchott 1 (Nord)</td>\n",
       "      <td>DAR NAIM</td>\n",
       "      <td>4 avr. 2000</td>\n",
       "      <td>ID_26060</td>\n",
       "      <td>21</td>\n",
       "      <td>Nouakchott</td>\n",
       "      <td>10.69</td>\n",
       "      <td>2.31</td>\n",
       "      <td>0.77</td>\n",
       "      <td>4.59</td>\n",
       "    </tr>\n",
       "  </tbody>\n",
       "</table>\n",
       "<p>5 rows × 27 columns</p>\n",
       "</div>"
      ],
      "text/plain": [
       "   Unnamed: 0                            Nom Serie,x GroupeAnonymat  \\\n",
       "0       27634           El Ide Brahim M'Hadi      SN           SN09   \n",
       "1       36311            Mariem Yedaly Afane      LO            LO1   \n",
       "2       24532     Ahmed Abd El Ghader Meissa      SN           SN06   \n",
       "3       34064  Mohamed Alioun Mohamed Lemine      LM            LM4   \n",
       "4       26060             Lalty Lalty N'Gome       M            M02   \n",
       "\n",
       "    LieuNaissance                       Centre       Etablissement  \\\n",
       "0     Bathet meit                 Lycée Jedida        Lycée Jedida   \n",
       "1   Beir Taouress           Lycée Arafat 2 (A)      Lycée Arafat 2   \n",
       "2  Chelkhet Tiyab           Lycée Toujounine 1  Lycée Toujounine 1   \n",
       "3           Riyad  Ecole Sidi Abdoullah-Arafat           El Amriya   \n",
       "4           Rosso      Ecole Youssouf Dar Naim    Lycée Dar Naim 1   \n",
       "\n",
       "   moyeneGeneral Decision   Note1  ...               Willaya   moughataa  \\\n",
       "0       4.601562  Ajourné   1.625  ...  Nouakchott 2 (Ouest)        KSAR   \n",
       "1       7.625000  Ajourné  13.000  ...    Nouakchott 3 (Sud)      ARAFAT   \n",
       "2       4.859375  Ajourné   1.750  ...   Nouakchott 1 (Nord)  TOUJOUNINE   \n",
       "3      10.713542    Admis  13.500  ...    Nouakchott 3 (Sud)      ARAFAT   \n",
       "4       5.132812  Ajourné   1.750  ...   Nouakchott 1 (Nord)    DAR NAIM   \n",
       "\n",
       "    DateNaissance        ID  age     willaya     p0   p1_   p2_ Pauvreté  \n",
       "0  12 ديسمبر 1998  ID_27634   23  Nouakchott  10.69  2.31  0.77     4.59  \n",
       "1  26 ديسمبر 1991  ID_36311   30  Nouakchott  10.69  2.31  0.77     4.59  \n",
       "2    24 avr. 1999  ID_24532   22  Nouakchott  10.69  2.31  0.77     4.59  \n",
       "3  24 ديسمبر 2000  ID_34064   21  Nouakchott  10.69  2.31  0.77     4.59  \n",
       "4     4 avr. 2000  ID_26060   21  Nouakchott  10.69  2.31  0.77     4.59  \n",
       "\n",
       "[5 rows x 27 columns]"
      ]
     },
     "execution_count": 19,
     "metadata": {},
     "output_type": "execute_result"
    }
   ],
   "source": [
    "# Fusionner les deux dataframes pauvreter et data_train sur la variable en commun \"wilaya\"\n",
    "train_data1 = pd.merge(train_data, data_wilya, on='willaya')\n",
    "\n",
    "# Afficher le nouveau dataframe avec la colonne \"indice_pauvrete\"\n",
    "train_data1.head()"
   ]
  },
  {
   "cell_type": "code",
   "execution_count": 20,
   "id": "a75bd6ce",
   "metadata": {},
   "outputs": [
    {
     "data": {
      "text/plain": [
       "(23894, 27)"
      ]
     },
     "execution_count": 20,
     "metadata": {},
     "output_type": "execute_result"
    }
   ],
   "source": [
    "train_data1.shape"
   ]
  },
  {
   "cell_type": "code",
   "execution_count": 21,
   "id": "f316be6d",
   "metadata": {},
   "outputs": [],
   "source": [
    "# import numpy as np\n",
    "# # Créer une colonne pour la richesse relative de chaque wilaya\n",
    "# train_data1['richesse_relative'] = np.where(train_data1['Pauvreté'] < 4, 'très riche',\n",
    "#                         np.where(train_data1['Pauvreté'] < 10, 'riche',\n",
    "#                         np.where(train_data1['Pauvreté'] < 21, 'moyenne',\n",
    "#                         np.where(train_data1['Pauvreté'] < 40, 'pauvre', 'très pauvre'))))\n"
   ]
  },
  {
   "cell_type": "code",
   "execution_count": 23,
   "id": "13b4382f",
   "metadata": {},
   "outputs": [],
   "source": [
    "##nettoyer l'age pour le data test\n",
    "test_data['age'] = test_data['DateNaissance'].apply(  \n",
    "    lambda x: int(x.split(\"-\")[2] if '-' in x else int(x.split(\" \")[2]) )\n",
    "    ).apply(lambda x : 2021 - x if x > 1900  else ( 121 - x if x > 21 else 21 - x))"
   ]
  },
  {
   "cell_type": "code",
   "execution_count": 24,
   "id": "2cd51be6",
   "metadata": {},
   "outputs": [
    {
     "data": {
      "text/plain": [
       "(15930, 18)"
      ]
     },
     "execution_count": 24,
     "metadata": {},
     "output_type": "execute_result"
    }
   ],
   "source": [
    "## faire le meme precedent pour test_data\n",
    "test_data = test_data.assign(willaya=test_data['Willaya'])\n",
    "\n",
    "# Créer une liste des modalités à remplacer\n",
    "modalites_a_remplacer = ['Nouakchott 1 (Nord)', 'Nouakchott 2 (Ouest)', 'Nouakchott 3 (Sud)']\n",
    "modalites_a_remplacer2 = [\"Dakhlet NDB\"]\n",
    "modalites_a_remplacer3=[\"Hod Charghy\"]\n",
    "modalites_a_remplacer4=[\"Hod Gharby\"]\n",
    "modalites_a_remplacer5=[\"Guidimagha\"]\n",
    "# Remplacer les modalités spécifiées par \"nktt\" et conserver les autres modalités\n",
    "test_data[\"willaya\"] = test_data[\"willaya\"].replace(modalites_a_remplacer, 'Nouakchott')\n",
    "test_data[\"willaya\"] = test_data[\"willaya\"].replace(modalites_a_remplacer2, 'Dakhlet Nouadhibou')\n",
    "test_data[\"willaya\"] = test_data[\"willaya\"].replace(modalites_a_remplacer3, 'Hodh el Gharbi')\n",
    "test_data[\"willaya\"] = test_data[\"willaya\"].replace(modalites_a_remplacer4, 'Hodh ech Chargui')\n",
    "test_data[\"willaya\"] = test_data[\"willaya\"].replace(modalites_a_remplacer5, 'Guidimaka')\n",
    "modalites_a_remplacer5=[\"Tiris Zemour\"]\n",
    "test_data[\"willaya\"] = test_data[\"willaya\"].replace(modalites_a_remplacer5, 'Tiris Zemmour')\n",
    "\n",
    "test_data1 = pd.merge(test_data, data_wilya, on='willaya')\n",
    "\n",
    "test_data1.shape"
   ]
  },
  {
   "cell_type": "code",
   "execution_count": 25,
   "id": "153aafe4",
   "metadata": {},
   "outputs": [
    {
     "data": {
      "text/html": [
       "<div>\n",
       "<style scoped>\n",
       "    .dataframe tbody tr th:only-of-type {\n",
       "        vertical-align: middle;\n",
       "    }\n",
       "\n",
       "    .dataframe tbody tr th {\n",
       "        vertical-align: top;\n",
       "    }\n",
       "\n",
       "    .dataframe thead th {\n",
       "        text-align: right;\n",
       "    }\n",
       "</style>\n",
       "<table border=\"1\" class=\"dataframe\">\n",
       "  <thead>\n",
       "    <tr style=\"text-align: right;\">\n",
       "      <th></th>\n",
       "      <th>Unnamed: 0</th>\n",
       "      <th>Nom</th>\n",
       "      <th>Serie,x</th>\n",
       "      <th>GroupeAnonymat</th>\n",
       "      <th>LieuNaissance</th>\n",
       "      <th>Centre</th>\n",
       "      <th>Etablissement</th>\n",
       "      <th>Willaya</th>\n",
       "      <th>moughataa</th>\n",
       "      <th>DateNaissance</th>\n",
       "      <th>ID</th>\n",
       "      <th>prediction</th>\n",
       "      <th>age</th>\n",
       "      <th>willaya</th>\n",
       "      <th>p0</th>\n",
       "      <th>p1_</th>\n",
       "      <th>p2_</th>\n",
       "      <th>Pauvreté</th>\n",
       "    </tr>\n",
       "  </thead>\n",
       "  <tbody>\n",
       "    <tr>\n",
       "      <th>0</th>\n",
       "      <td>6</td>\n",
       "      <td>Mohamed Hama Ahmed Lely</td>\n",
       "      <td>SN</td>\n",
       "      <td>SN09</td>\n",
       "      <td>Vassala</td>\n",
       "      <td>Lycée Vassala</td>\n",
       "      <td>Lycée Vassala</td>\n",
       "      <td>Hod Charghy</td>\n",
       "      <td>BASSEKNOU</td>\n",
       "      <td>15 يوليو 2001</td>\n",
       "      <td>ID_6</td>\n",
       "      <td>0.0</td>\n",
       "      <td>20</td>\n",
       "      <td>Hodh el Gharbi</td>\n",
       "      <td>42.325</td>\n",
       "      <td>13.225</td>\n",
       "      <td>5.775</td>\n",
       "      <td>20.441667</td>\n",
       "    </tr>\n",
       "    <tr>\n",
       "      <th>1</th>\n",
       "      <td>15</td>\n",
       "      <td>Fatimatou Mohamed Sid Abbe</td>\n",
       "      <td>SN</td>\n",
       "      <td>SN09</td>\n",
       "      <td>Vassala</td>\n",
       "      <td>Lycée Vassala</td>\n",
       "      <td>Lycée Vassala</td>\n",
       "      <td>Hod Charghy</td>\n",
       "      <td>BASSEKNOU</td>\n",
       "      <td>12 août 1999</td>\n",
       "      <td>ID_15</td>\n",
       "      <td>0.0</td>\n",
       "      <td>22</td>\n",
       "      <td>Hodh el Gharbi</td>\n",
       "      <td>42.325</td>\n",
       "      <td>13.225</td>\n",
       "      <td>5.775</td>\n",
       "      <td>20.441667</td>\n",
       "    </tr>\n",
       "    <tr>\n",
       "      <th>2</th>\n",
       "      <td>18</td>\n",
       "      <td>El Alye Cheikh Ahmed Maihmatt</td>\n",
       "      <td>SN</td>\n",
       "      <td>SN09</td>\n",
       "      <td>Vassala</td>\n",
       "      <td>Lycée Vassala</td>\n",
       "      <td>Lycée Vassala</td>\n",
       "      <td>Hod Charghy</td>\n",
       "      <td>BASSEKNOU</td>\n",
       "      <td>18 sept. 1999</td>\n",
       "      <td>ID_18</td>\n",
       "      <td>0.0</td>\n",
       "      <td>22</td>\n",
       "      <td>Hodh el Gharbi</td>\n",
       "      <td>42.325</td>\n",
       "      <td>13.225</td>\n",
       "      <td>5.775</td>\n",
       "      <td>20.441667</td>\n",
       "    </tr>\n",
       "    <tr>\n",
       "      <th>3</th>\n",
       "      <td>19</td>\n",
       "      <td>Haine Mohamed Lemin Telba</td>\n",
       "      <td>SN</td>\n",
       "      <td>SN09</td>\n",
       "      <td>Vassala</td>\n",
       "      <td>Lycée Vassala</td>\n",
       "      <td>Lycée Vassala</td>\n",
       "      <td>Hod Charghy</td>\n",
       "      <td>BASSEKNOU</td>\n",
       "      <td>24 août 1998</td>\n",
       "      <td>ID_19</td>\n",
       "      <td>0.0</td>\n",
       "      <td>23</td>\n",
       "      <td>Hodh el Gharbi</td>\n",
       "      <td>42.325</td>\n",
       "      <td>13.225</td>\n",
       "      <td>5.775</td>\n",
       "      <td>20.441667</td>\n",
       "    </tr>\n",
       "    <tr>\n",
       "      <th>4</th>\n",
       "      <td>20</td>\n",
       "      <td>Aichata Sid'Ahmed Ahmed Ely</td>\n",
       "      <td>SN</td>\n",
       "      <td>SN09</td>\n",
       "      <td>El Megve</td>\n",
       "      <td>Lycée Vassala</td>\n",
       "      <td>Lycée Vassala</td>\n",
       "      <td>Hod Charghy</td>\n",
       "      <td>BASSEKNOU</td>\n",
       "      <td>31-mai-95</td>\n",
       "      <td>ID_20</td>\n",
       "      <td>0.0</td>\n",
       "      <td>26</td>\n",
       "      <td>Hodh el Gharbi</td>\n",
       "      <td>42.325</td>\n",
       "      <td>13.225</td>\n",
       "      <td>5.775</td>\n",
       "      <td>20.441667</td>\n",
       "    </tr>\n",
       "  </tbody>\n",
       "</table>\n",
       "</div>"
      ],
      "text/plain": [
       "   Unnamed: 0                            Nom Serie,x GroupeAnonymat  \\\n",
       "0           6        Mohamed Hama Ahmed Lely      SN           SN09   \n",
       "1          15     Fatimatou Mohamed Sid Abbe      SN           SN09   \n",
       "2          18  El Alye Cheikh Ahmed Maihmatt      SN           SN09   \n",
       "3          19      Haine Mohamed Lemin Telba      SN           SN09   \n",
       "4          20    Aichata Sid'Ahmed Ahmed Ely      SN           SN09   \n",
       "\n",
       "  LieuNaissance         Centre  Etablissement      Willaya  moughataa  \\\n",
       "0       Vassala  Lycée Vassala  Lycée Vassala  Hod Charghy  BASSEKNOU   \n",
       "1       Vassala  Lycée Vassala  Lycée Vassala  Hod Charghy  BASSEKNOU   \n",
       "2       Vassala  Lycée Vassala  Lycée Vassala  Hod Charghy  BASSEKNOU   \n",
       "3       Vassala  Lycée Vassala  Lycée Vassala  Hod Charghy  BASSEKNOU   \n",
       "4      El Megve  Lycée Vassala  Lycée Vassala  Hod Charghy  BASSEKNOU   \n",
       "\n",
       "   DateNaissance     ID  prediction  age         willaya      p0     p1_  \\\n",
       "0  15 يوليو 2001   ID_6         0.0   20  Hodh el Gharbi  42.325  13.225   \n",
       "1   12 août 1999  ID_15         0.0   22  Hodh el Gharbi  42.325  13.225   \n",
       "2  18 sept. 1999  ID_18         0.0   22  Hodh el Gharbi  42.325  13.225   \n",
       "3   24 août 1998  ID_19         0.0   23  Hodh el Gharbi  42.325  13.225   \n",
       "4      31-mai-95  ID_20         0.0   26  Hodh el Gharbi  42.325  13.225   \n",
       "\n",
       "     p2_   Pauvreté  \n",
       "0  5.775  20.441667  \n",
       "1  5.775  20.441667  \n",
       "2  5.775  20.441667  \n",
       "3  5.775  20.441667  \n",
       "4  5.775  20.441667  "
      ]
     },
     "execution_count": 25,
     "metadata": {},
     "output_type": "execute_result"
    }
   ],
   "source": [
    "test_data1.head()"
   ]
  },
  {
   "cell_type": "code",
   "execution_count": 26,
   "id": "7fa7f672",
   "metadata": {},
   "outputs": [],
   "source": [
    "var_categorielle= ['Serie,x', 'GroupeAnonymat','LieuNaissance','Centre',\"Etablissement\",\"Willaya\",'moughataa',\"age\",\"Pauvreté\"]\n",
    "target = 'Decision'"
   ]
  },
  {
   "cell_type": "code",
   "execution_count": 27,
   "id": "caad96c8",
   "metadata": {},
   "outputs": [
    {
     "data": {
      "text/plain": [
       "Index(['Unnamed: 0', 'Nom', 'Serie,x', 'GroupeAnonymat', 'LieuNaissance',\n",
       "       'Centre', 'Etablissement', 'Willaya', 'moughataa', 'DateNaissance',\n",
       "       'ID', 'prediction', 'age', 'willaya', 'p0', 'p1_', 'p2_', 'Pauvreté'],\n",
       "      dtype='object')"
      ]
     },
     "execution_count": 27,
     "metadata": {},
     "output_type": "execute_result"
    }
   ],
   "source": [
    "test_data1.columns"
   ]
  },
  {
   "cell_type": "code",
   "execution_count": 28,
   "id": "40087118",
   "metadata": {},
   "outputs": [
    {
     "data": {
      "text/plain": [
       "Index(['Unnamed: 0', 'Nom', 'Serie,x', 'GroupeAnonymat', 'LieuNaissance',\n",
       "       'Centre', 'Etablissement', 'moyeneGeneral', 'Decision', 'Note1',\n",
       "       'Note2', 'Note3', 'Note4', 'Note5', 'Note6', 'Note7', 'Note8',\n",
       "       'Willaya', 'moughataa', 'DateNaissance', 'ID', 'age', 'willaya', 'p0',\n",
       "       'p1_', 'p2_', 'Pauvreté'],\n",
       "      dtype='object')"
      ]
     },
     "execution_count": 28,
     "metadata": {},
     "output_type": "execute_result"
    }
   ],
   "source": [
    "train_data1.columns"
   ]
  },
  {
   "cell_type": "code",
   "execution_count": 31,
   "id": "3520265f",
   "metadata": {},
   "outputs": [
    {
     "data": {
      "text/html": [
       "<div>\n",
       "<style scoped>\n",
       "    .dataframe tbody tr th:only-of-type {\n",
       "        vertical-align: middle;\n",
       "    }\n",
       "\n",
       "    .dataframe tbody tr th {\n",
       "        vertical-align: top;\n",
       "    }\n",
       "\n",
       "    .dataframe thead th {\n",
       "        text-align: right;\n",
       "    }\n",
       "</style>\n",
       "<table border=\"1\" class=\"dataframe\">\n",
       "  <thead>\n",
       "    <tr style=\"text-align: right;\">\n",
       "      <th></th>\n",
       "      <th>Serie,x</th>\n",
       "      <th>GroupeAnonymat</th>\n",
       "      <th>LieuNaissance</th>\n",
       "      <th>Centre</th>\n",
       "      <th>Etablissement</th>\n",
       "      <th>Willaya</th>\n",
       "      <th>moughataa</th>\n",
       "      <th>age</th>\n",
       "      <th>Pauvreté</th>\n",
       "    </tr>\n",
       "  </thead>\n",
       "  <tbody>\n",
       "    <tr>\n",
       "      <th>0</th>\n",
       "      <td>SN</td>\n",
       "      <td>SN09</td>\n",
       "      <td>Bathet meit</td>\n",
       "      <td>Lycée Jedida</td>\n",
       "      <td>Lycée Jedida</td>\n",
       "      <td>Nouakchott 2 (Ouest)</td>\n",
       "      <td>KSAR</td>\n",
       "      <td>23</td>\n",
       "      <td>4.59</td>\n",
       "    </tr>\n",
       "    <tr>\n",
       "      <th>1</th>\n",
       "      <td>LO</td>\n",
       "      <td>LO1</td>\n",
       "      <td>Beir Taouress</td>\n",
       "      <td>Lycée Arafat 2 (A)</td>\n",
       "      <td>Lycée Arafat 2</td>\n",
       "      <td>Nouakchott 3 (Sud)</td>\n",
       "      <td>ARAFAT</td>\n",
       "      <td>30</td>\n",
       "      <td>4.59</td>\n",
       "    </tr>\n",
       "    <tr>\n",
       "      <th>2</th>\n",
       "      <td>SN</td>\n",
       "      <td>SN06</td>\n",
       "      <td>Chelkhet Tiyab</td>\n",
       "      <td>Lycée Toujounine 1</td>\n",
       "      <td>Lycée Toujounine 1</td>\n",
       "      <td>Nouakchott 1 (Nord)</td>\n",
       "      <td>TOUJOUNINE</td>\n",
       "      <td>22</td>\n",
       "      <td>4.59</td>\n",
       "    </tr>\n",
       "    <tr>\n",
       "      <th>3</th>\n",
       "      <td>LM</td>\n",
       "      <td>LM4</td>\n",
       "      <td>Riyad</td>\n",
       "      <td>Ecole Sidi Abdoullah-Arafat</td>\n",
       "      <td>El Amriya</td>\n",
       "      <td>Nouakchott 3 (Sud)</td>\n",
       "      <td>ARAFAT</td>\n",
       "      <td>21</td>\n",
       "      <td>4.59</td>\n",
       "    </tr>\n",
       "    <tr>\n",
       "      <th>4</th>\n",
       "      <td>M</td>\n",
       "      <td>M02</td>\n",
       "      <td>Rosso</td>\n",
       "      <td>Ecole Youssouf Dar Naim</td>\n",
       "      <td>Lycée Dar Naim 1</td>\n",
       "      <td>Nouakchott 1 (Nord)</td>\n",
       "      <td>DAR NAIM</td>\n",
       "      <td>21</td>\n",
       "      <td>4.59</td>\n",
       "    </tr>\n",
       "  </tbody>\n",
       "</table>\n",
       "</div>"
      ],
      "text/plain": [
       "  Serie,x GroupeAnonymat   LieuNaissance                       Centre  \\\n",
       "0      SN           SN09     Bathet meit                 Lycée Jedida   \n",
       "1      LO            LO1   Beir Taouress           Lycée Arafat 2 (A)   \n",
       "2      SN           SN06  Chelkhet Tiyab           Lycée Toujounine 1   \n",
       "3      LM            LM4           Riyad  Ecole Sidi Abdoullah-Arafat   \n",
       "4       M            M02           Rosso      Ecole Youssouf Dar Naim   \n",
       "\n",
       "        Etablissement               Willaya   moughataa  age  Pauvreté  \n",
       "0        Lycée Jedida  Nouakchott 2 (Ouest)        KSAR   23      4.59  \n",
       "1      Lycée Arafat 2    Nouakchott 3 (Sud)      ARAFAT   30      4.59  \n",
       "2  Lycée Toujounine 1   Nouakchott 1 (Nord)  TOUJOUNINE   22      4.59  \n",
       "3           El Amriya    Nouakchott 3 (Sud)      ARAFAT   21      4.59  \n",
       "4    Lycée Dar Naim 1   Nouakchott 1 (Nord)    DAR NAIM   21      4.59  "
      ]
     },
     "execution_count": 31,
     "metadata": {},
     "output_type": "execute_result"
    }
   ],
   "source": [
    "all_data1 = pd.concat([train_data1[var_categorielle], test_data1[var_categorielle]], axis=0)\n",
    "all_data1.head()"
   ]
  },
  {
   "cell_type": "code",
   "execution_count": 32,
   "id": "e9deef81",
   "metadata": {},
   "outputs": [],
   "source": [
    "y_train = train_data1[target]"
   ]
  },
  {
   "cell_type": "code",
   "execution_count": 33,
   "id": "f2426447",
   "metadata": {},
   "outputs": [
    {
     "data": {
      "text/html": [
       "<div>\n",
       "<style scoped>\n",
       "    .dataframe tbody tr th:only-of-type {\n",
       "        vertical-align: middle;\n",
       "    }\n",
       "\n",
       "    .dataframe tbody tr th {\n",
       "        vertical-align: top;\n",
       "    }\n",
       "\n",
       "    .dataframe thead th {\n",
       "        text-align: right;\n",
       "    }\n",
       "</style>\n",
       "<table border=\"1\" class=\"dataframe\">\n",
       "  <thead>\n",
       "    <tr style=\"text-align: right;\">\n",
       "      <th></th>\n",
       "      <th>Serie,x</th>\n",
       "      <th>GroupeAnonymat</th>\n",
       "      <th>LieuNaissance</th>\n",
       "      <th>Centre</th>\n",
       "      <th>Etablissement</th>\n",
       "      <th>Willaya</th>\n",
       "      <th>moughataa</th>\n",
       "      <th>age</th>\n",
       "      <th>Pauvreté</th>\n",
       "    </tr>\n",
       "  </thead>\n",
       "  <tbody>\n",
       "    <tr>\n",
       "      <th>0</th>\n",
       "      <td>SN</td>\n",
       "      <td>SN09</td>\n",
       "      <td>Bathet meit</td>\n",
       "      <td>Lycée Jedida</td>\n",
       "      <td>Lycée Jedida</td>\n",
       "      <td>Nouakchott 2 (Ouest)</td>\n",
       "      <td>KSAR</td>\n",
       "      <td>23</td>\n",
       "      <td>4.59</td>\n",
       "    </tr>\n",
       "    <tr>\n",
       "      <th>1</th>\n",
       "      <td>LO</td>\n",
       "      <td>LO1</td>\n",
       "      <td>Beir Taouress</td>\n",
       "      <td>Lycée Arafat 2 (A)</td>\n",
       "      <td>Lycée Arafat 2</td>\n",
       "      <td>Nouakchott 3 (Sud)</td>\n",
       "      <td>ARAFAT</td>\n",
       "      <td>30</td>\n",
       "      <td>4.59</td>\n",
       "    </tr>\n",
       "    <tr>\n",
       "      <th>2</th>\n",
       "      <td>SN</td>\n",
       "      <td>SN06</td>\n",
       "      <td>Chelkhet Tiyab</td>\n",
       "      <td>Lycée Toujounine 1</td>\n",
       "      <td>Lycée Toujounine 1</td>\n",
       "      <td>Nouakchott 1 (Nord)</td>\n",
       "      <td>TOUJOUNINE</td>\n",
       "      <td>22</td>\n",
       "      <td>4.59</td>\n",
       "    </tr>\n",
       "    <tr>\n",
       "      <th>3</th>\n",
       "      <td>LM</td>\n",
       "      <td>LM4</td>\n",
       "      <td>Riyad</td>\n",
       "      <td>Ecole Sidi Abdoullah-Arafat</td>\n",
       "      <td>El Amriya</td>\n",
       "      <td>Nouakchott 3 (Sud)</td>\n",
       "      <td>ARAFAT</td>\n",
       "      <td>21</td>\n",
       "      <td>4.59</td>\n",
       "    </tr>\n",
       "    <tr>\n",
       "      <th>4</th>\n",
       "      <td>M</td>\n",
       "      <td>M02</td>\n",
       "      <td>Rosso</td>\n",
       "      <td>Ecole Youssouf Dar Naim</td>\n",
       "      <td>Lycée Dar Naim 1</td>\n",
       "      <td>Nouakchott 1 (Nord)</td>\n",
       "      <td>DAR NAIM</td>\n",
       "      <td>21</td>\n",
       "      <td>4.59</td>\n",
       "    </tr>\n",
       "  </tbody>\n",
       "</table>\n",
       "</div>"
      ],
      "text/plain": [
       "  Serie,x GroupeAnonymat   LieuNaissance                       Centre  \\\n",
       "0      SN           SN09     Bathet meit                 Lycée Jedida   \n",
       "1      LO            LO1   Beir Taouress           Lycée Arafat 2 (A)   \n",
       "2      SN           SN06  Chelkhet Tiyab           Lycée Toujounine 1   \n",
       "3      LM            LM4           Riyad  Ecole Sidi Abdoullah-Arafat   \n",
       "4       M            M02           Rosso      Ecole Youssouf Dar Naim   \n",
       "\n",
       "        Etablissement               Willaya   moughataa  age  Pauvreté  \n",
       "0        Lycée Jedida  Nouakchott 2 (Ouest)        KSAR   23      4.59  \n",
       "1      Lycée Arafat 2    Nouakchott 3 (Sud)      ARAFAT   30      4.59  \n",
       "2  Lycée Toujounine 1   Nouakchott 1 (Nord)  TOUJOUNINE   22      4.59  \n",
       "3           El Amriya    Nouakchott 3 (Sud)      ARAFAT   21      4.59  \n",
       "4    Lycée Dar Naim 1   Nouakchott 1 (Nord)    DAR NAIM   21      4.59  "
      ]
     },
     "execution_count": 33,
     "metadata": {},
     "output_type": "execute_result"
    }
   ],
   "source": [
    "train_data1[var_categorielle].head()"
   ]
  },
  {
   "cell_type": "code",
   "execution_count": 35,
   "id": "726ec807",
   "metadata": {},
   "outputs": [
    {
     "data": {
      "text/plain": [
       "Serie,x            object\n",
       "GroupeAnonymat     object\n",
       "LieuNaissance      object\n",
       "Centre             object\n",
       "Etablissement      object\n",
       "Willaya            object\n",
       "moughataa          object\n",
       "age                 int64\n",
       "Pauvreté          float64\n",
       "dtype: object"
      ]
     },
     "execution_count": 35,
     "metadata": {},
     "output_type": "execute_result"
    }
   ],
   "source": [
    "train_data1[var_categorielle].dtypes"
   ]
  },
  {
   "cell_type": "code",
   "execution_count": 36,
   "id": "c6cd8b82",
   "metadata": {},
   "outputs": [],
   "source": [
    "from sklearn.preprocessing import OneHotEncoder"
   ]
  },
  {
   "cell_type": "code",
   "execution_count": 37,
   "id": "0b83170e",
   "metadata": {},
   "outputs": [],
   "source": [
    "encoder1 = OneHotEncoder(sparse=False,handle_unknown='ignore')\n",
    "X = encoder1.fit_transform(train_data1[var_categorielle])"
   ]
  },
  {
   "cell_type": "code",
   "execution_count": 38,
   "id": "91ab64b0",
   "metadata": {},
   "outputs": [
    {
     "data": {
      "text/plain": [
       "0    1\n",
       "1    1\n",
       "2    1\n",
       "3    0\n",
       "4    1\n",
       "Name: Decision, dtype: uint8"
      ]
     },
     "execution_count": 38,
     "metadata": {},
     "output_type": "execute_result"
    }
   ],
   "source": [
    "train_data1[target]=pd.get_dummies(train_data1[target],drop_first=True)\n",
    "train_data1[target].head()"
   ]
  },
  {
   "cell_type": "code",
   "execution_count": 39,
   "id": "a4f196fa",
   "metadata": {},
   "outputs": [],
   "source": [
    "y=train_data1[target]"
   ]
  },
  {
   "cell_type": "markdown",
   "id": "bbe38d9c",
   "metadata": {},
   "source": [
    "# Naives Bayes"
   ]
  },
  {
   "cell_type": "code",
   "execution_count": 41,
   "id": "349889f9",
   "metadata": {},
   "outputs": [],
   "source": [
    "\n",
    "from sklearn.naive_bayes import MultinomialNB\n",
    "from sklearn.model_selection import train_test_split\n",
    "from sklearn.metrics import accuracy_score\n"
   ]
  },
  {
   "cell_type": "code",
   "execution_count": 42,
   "id": "f2e26731",
   "metadata": {},
   "outputs": [],
   "source": [
    "# Diviser les données en ensemble d'entraînement et de test\n",
    "X_train, X_test, y_train, y_test = train_test_split(X, y, test_size=0.2,random_state=42)"
   ]
  },
  {
   "cell_type": "code",
   "execution_count": 43,
   "id": "e4c4897c",
   "metadata": {},
   "outputs": [],
   "source": [
    "# Entraînement du modèle de classification multinomiale Naive Bayes\n",
    "clf = MultinomialNB()\n",
    "clf.fit(X_train, y_train)\n",
    "\n",
    "# Prédiction sur l'ensemble de test\n",
    "y_pred = clf.predict(X_test)"
   ]
  },
  {
   "cell_type": "code",
   "execution_count": 44,
   "id": "dce17a58",
   "metadata": {},
   "outputs": [
    {
     "name": "stdout",
     "output_type": "stream",
     "text": [
      "Accuracy score: 0.8300899769826323\n",
      "Precision score: 0.951084215834594\n",
      "Recall score: 0.8592255125284738\n",
      "F1 score: 0.9028243178554333\n"
     ]
    }
   ],
   "source": [
    "# Calcul des scores de précision, rappel et F1\n",
    "from sklearn.metrics import accuracy_score, precision_score, recall_score, f1_score\n",
    "print('Accuracy score:', accuracy_score(y_test, y_pred))\n",
    "print('Precision score:', precision_score(y_test, y_pred))\n",
    "print('Recall score:', recall_score(y_test, y_pred))\n",
    "print('F1 score:', f1_score(y_test, y_pred))"
   ]
  },
  {
   "cell_type": "code",
   "execution_count": 45,
   "id": "90044453",
   "metadata": {},
   "outputs": [
    {
     "data": {
      "text/plain": [
       "0.8300899769826323"
      ]
     },
     "execution_count": 45,
     "metadata": {},
     "output_type": "execute_result"
    }
   ],
   "source": [
    "clf.score(X_test,y_test)"
   ]
  },
  {
   "cell_type": "code",
   "execution_count": 46,
   "id": "1e64e92a",
   "metadata": {},
   "outputs": [],
   "source": [
    "#encoder maintenant les variables de test\n",
    "\n",
    "X2 = encoder1.transform(test_data1[var_categorielle])"
   ]
  },
  {
   "cell_type": "code",
   "execution_count": 66,
   "id": "564f613e",
   "metadata": {},
   "outputs": [],
   "source": [
    "y_pred_bac2021 = clf.predict(X2)"
   ]
  },
  {
   "cell_type": "code",
   "execution_count": 67,
   "id": "1f0c4997",
   "metadata": {},
   "outputs": [],
   "source": [
    "prob_admission_bac2021=clf.predict_proba(X2)\n",
    "\n"
   ]
  },
  {
   "cell_type": "code",
   "execution_count": 68,
   "id": "02223ede",
   "metadata": {},
   "outputs": [],
   "source": [
    "prob_admission_bac2021=prob_admission_bac2021[:,1]"
   ]
  },
  {
   "cell_type": "code",
   "execution_count": 70,
   "id": "9fe63698",
   "metadata": {},
   "outputs": [
    {
     "data": {
      "text/plain": [
       "15930"
      ]
     },
     "execution_count": 70,
     "metadata": {},
     "output_type": "execute_result"
    }
   ],
   "source": [
    "len(X2)"
   ]
  },
  {
   "cell_type": "code",
   "execution_count": 71,
   "id": "45969d16",
   "metadata": {},
   "outputs": [
    {
     "data": {
      "text/plain": [
       "15930"
      ]
     },
     "execution_count": 71,
     "metadata": {},
     "output_type": "execute_result"
    }
   ],
   "source": [
    "prob_admission_bac2021=pd.DataFrame(prob_admission_bac2021)\n",
    "len(prob_admission_bac2021)\n",
    "len(y_pred_bac2021)"
   ]
  },
  {
   "cell_type": "code",
   "execution_count": 72,
   "id": "55ad8791",
   "metadata": {},
   "outputs": [],
   "source": [
    "# Ajouter la prédiction en tant que colonne \"Decision\" dans le nouveau jeu de données\n",
    "test_data1['Decision'] = y_pred_bac2021\n",
    "# Ajouter la probabilité que la décision soit \"Admis\" dans le nouveau jeu de données\n",
    "test_data1['prediction']=prob_admission_bac2021"
   ]
  },
  {
   "cell_type": "code",
   "execution_count": 73,
   "id": "7dac5168",
   "metadata": {},
   "outputs": [
    {
     "data": {
      "text/html": [
       "<div>\n",
       "<style scoped>\n",
       "    .dataframe tbody tr th:only-of-type {\n",
       "        vertical-align: middle;\n",
       "    }\n",
       "\n",
       "    .dataframe tbody tr th {\n",
       "        vertical-align: top;\n",
       "    }\n",
       "\n",
       "    .dataframe thead th {\n",
       "        text-align: right;\n",
       "    }\n",
       "</style>\n",
       "<table border=\"1\" class=\"dataframe\">\n",
       "  <thead>\n",
       "    <tr style=\"text-align: right;\">\n",
       "      <th></th>\n",
       "      <th>Unnamed: 0</th>\n",
       "      <th>Nom</th>\n",
       "      <th>Serie,x</th>\n",
       "      <th>GroupeAnonymat</th>\n",
       "      <th>LieuNaissance</th>\n",
       "      <th>Centre</th>\n",
       "      <th>Etablissement</th>\n",
       "      <th>Willaya</th>\n",
       "      <th>moughataa</th>\n",
       "      <th>DateNaissance</th>\n",
       "      <th>ID</th>\n",
       "      <th>prediction</th>\n",
       "      <th>age</th>\n",
       "      <th>willaya</th>\n",
       "      <th>p0</th>\n",
       "      <th>p1_</th>\n",
       "      <th>p2_</th>\n",
       "      <th>Pauvreté</th>\n",
       "      <th>Decision</th>\n",
       "    </tr>\n",
       "  </thead>\n",
       "  <tbody>\n",
       "    <tr>\n",
       "      <th>0</th>\n",
       "      <td>6</td>\n",
       "      <td>Mohamed Hama Ahmed Lely</td>\n",
       "      <td>SN</td>\n",
       "      <td>SN09</td>\n",
       "      <td>Vassala</td>\n",
       "      <td>Lycée Vassala</td>\n",
       "      <td>Lycée Vassala</td>\n",
       "      <td>Hod Charghy</td>\n",
       "      <td>BASSEKNOU</td>\n",
       "      <td>15 يوليو 2001</td>\n",
       "      <td>ID_6</td>\n",
       "      <td>0.998870</td>\n",
       "      <td>20</td>\n",
       "      <td>Hodh el Gharbi</td>\n",
       "      <td>42.325</td>\n",
       "      <td>13.225</td>\n",
       "      <td>5.775</td>\n",
       "      <td>20.441667</td>\n",
       "      <td>1</td>\n",
       "    </tr>\n",
       "    <tr>\n",
       "      <th>1</th>\n",
       "      <td>15</td>\n",
       "      <td>Fatimatou Mohamed Sid Abbe</td>\n",
       "      <td>SN</td>\n",
       "      <td>SN09</td>\n",
       "      <td>Vassala</td>\n",
       "      <td>Lycée Vassala</td>\n",
       "      <td>Lycée Vassala</td>\n",
       "      <td>Hod Charghy</td>\n",
       "      <td>BASSEKNOU</td>\n",
       "      <td>12 août 1999</td>\n",
       "      <td>ID_15</td>\n",
       "      <td>0.999485</td>\n",
       "      <td>22</td>\n",
       "      <td>Hodh el Gharbi</td>\n",
       "      <td>42.325</td>\n",
       "      <td>13.225</td>\n",
       "      <td>5.775</td>\n",
       "      <td>20.441667</td>\n",
       "      <td>1</td>\n",
       "    </tr>\n",
       "    <tr>\n",
       "      <th>2</th>\n",
       "      <td>18</td>\n",
       "      <td>El Alye Cheikh Ahmed Maihmatt</td>\n",
       "      <td>SN</td>\n",
       "      <td>SN09</td>\n",
       "      <td>Vassala</td>\n",
       "      <td>Lycée Vassala</td>\n",
       "      <td>Lycée Vassala</td>\n",
       "      <td>Hod Charghy</td>\n",
       "      <td>BASSEKNOU</td>\n",
       "      <td>18 sept. 1999</td>\n",
       "      <td>ID_18</td>\n",
       "      <td>0.999485</td>\n",
       "      <td>22</td>\n",
       "      <td>Hodh el Gharbi</td>\n",
       "      <td>42.325</td>\n",
       "      <td>13.225</td>\n",
       "      <td>5.775</td>\n",
       "      <td>20.441667</td>\n",
       "      <td>1</td>\n",
       "    </tr>\n",
       "    <tr>\n",
       "      <th>3</th>\n",
       "      <td>19</td>\n",
       "      <td>Haine Mohamed Lemin Telba</td>\n",
       "      <td>SN</td>\n",
       "      <td>SN09</td>\n",
       "      <td>Vassala</td>\n",
       "      <td>Lycée Vassala</td>\n",
       "      <td>Lycée Vassala</td>\n",
       "      <td>Hod Charghy</td>\n",
       "      <td>BASSEKNOU</td>\n",
       "      <td>24 août 1998</td>\n",
       "      <td>ID_19</td>\n",
       "      <td>0.999697</td>\n",
       "      <td>23</td>\n",
       "      <td>Hodh el Gharbi</td>\n",
       "      <td>42.325</td>\n",
       "      <td>13.225</td>\n",
       "      <td>5.775</td>\n",
       "      <td>20.441667</td>\n",
       "      <td>1</td>\n",
       "    </tr>\n",
       "    <tr>\n",
       "      <th>4</th>\n",
       "      <td>20</td>\n",
       "      <td>Aichata Sid'Ahmed Ahmed Ely</td>\n",
       "      <td>SN</td>\n",
       "      <td>SN09</td>\n",
       "      <td>El Megve</td>\n",
       "      <td>Lycée Vassala</td>\n",
       "      <td>Lycée Vassala</td>\n",
       "      <td>Hod Charghy</td>\n",
       "      <td>BASSEKNOU</td>\n",
       "      <td>31-mai-95</td>\n",
       "      <td>ID_20</td>\n",
       "      <td>0.999108</td>\n",
       "      <td>26</td>\n",
       "      <td>Hodh el Gharbi</td>\n",
       "      <td>42.325</td>\n",
       "      <td>13.225</td>\n",
       "      <td>5.775</td>\n",
       "      <td>20.441667</td>\n",
       "      <td>1</td>\n",
       "    </tr>\n",
       "  </tbody>\n",
       "</table>\n",
       "</div>"
      ],
      "text/plain": [
       "   Unnamed: 0                            Nom Serie,x GroupeAnonymat  \\\n",
       "0           6        Mohamed Hama Ahmed Lely      SN           SN09   \n",
       "1          15     Fatimatou Mohamed Sid Abbe      SN           SN09   \n",
       "2          18  El Alye Cheikh Ahmed Maihmatt      SN           SN09   \n",
       "3          19      Haine Mohamed Lemin Telba      SN           SN09   \n",
       "4          20    Aichata Sid'Ahmed Ahmed Ely      SN           SN09   \n",
       "\n",
       "  LieuNaissance         Centre  Etablissement      Willaya  moughataa  \\\n",
       "0       Vassala  Lycée Vassala  Lycée Vassala  Hod Charghy  BASSEKNOU   \n",
       "1       Vassala  Lycée Vassala  Lycée Vassala  Hod Charghy  BASSEKNOU   \n",
       "2       Vassala  Lycée Vassala  Lycée Vassala  Hod Charghy  BASSEKNOU   \n",
       "3       Vassala  Lycée Vassala  Lycée Vassala  Hod Charghy  BASSEKNOU   \n",
       "4      El Megve  Lycée Vassala  Lycée Vassala  Hod Charghy  BASSEKNOU   \n",
       "\n",
       "   DateNaissance     ID  prediction  age         willaya      p0     p1_  \\\n",
       "0  15 يوليو 2001   ID_6    0.998870   20  Hodh el Gharbi  42.325  13.225   \n",
       "1   12 août 1999  ID_15    0.999485   22  Hodh el Gharbi  42.325  13.225   \n",
       "2  18 sept. 1999  ID_18    0.999485   22  Hodh el Gharbi  42.325  13.225   \n",
       "3   24 août 1998  ID_19    0.999697   23  Hodh el Gharbi  42.325  13.225   \n",
       "4      31-mai-95  ID_20    0.999108   26  Hodh el Gharbi  42.325  13.225   \n",
       "\n",
       "     p2_   Pauvreté  Decision  \n",
       "0  5.775  20.441667         1  \n",
       "1  5.775  20.441667         1  \n",
       "2  5.775  20.441667         1  \n",
       "3  5.775  20.441667         1  \n",
       "4  5.775  20.441667         1  "
      ]
     },
     "execution_count": 73,
     "metadata": {},
     "output_type": "execute_result"
    }
   ],
   "source": [
    "test_data1.head()"
   ]
  },
  {
   "cell_type": "markdown",
   "id": "73d1b239",
   "metadata": {},
   "source": [
    "## regression logistique"
   ]
  },
  {
   "cell_type": "code",
   "execution_count": 74,
   "id": "5b50d729",
   "metadata": {},
   "outputs": [
    {
     "data": {
      "text/plain": [
       "OneHotEncoder(handle_unknown='ignore')"
      ]
     },
     "execution_count": 74,
     "metadata": {},
     "output_type": "execute_result"
    }
   ],
   "source": [
    "# Prétraitement des variables catégorielles\n",
    "cat_transformer2 = OneHotEncoder(handle_unknown='ignore')\n",
    "cat_transformer2.fit(all_data1)"
   ]
  },
  {
   "cell_type": "code",
   "execution_count": 75,
   "id": "e8d49424",
   "metadata": {},
   "outputs": [],
   "source": [
    "# Encodage des variables catégorielles de l'ensemble d'entraînement\n",
    "X_train_encoded1 = cat_transformer2.transform(train_data1[var_categorielle])"
   ]
  },
  {
   "cell_type": "code",
   "execution_count": 76,
   "id": "9d5f627b",
   "metadata": {},
   "outputs": [],
   "source": [
    "# Séparation des données en ensembles d'entraînement et de test encodés\n",
    "X_test_encoded1 = cat_transformer2.transform(test_data1[var_categorielle])\n",
    "y_train = train_data1[target]"
   ]
  },
  {
   "cell_type": "code",
   "execution_count": 78,
   "id": "07712cea",
   "metadata": {},
   "outputs": [
    {
     "data": {
      "text/plain": [
       "LogisticRegression(max_iter=1000)"
      ]
     },
     "execution_count": 78,
     "metadata": {},
     "output_type": "execute_result"
    }
   ],
   "source": [
    "from sklearn.linear_model import LogisticRegression\n",
    "from sklearn.metrics import accuracy_score\n",
    "model1 = LogisticRegression(max_iter=1000)\n",
    "\n",
    "# Entraînement du modèle sur l'ensemble d'entraînement complet\n",
    "model1.fit(X_train_encoded1, y_train)"
   ]
  },
  {
   "cell_type": "code",
   "execution_count": 95,
   "id": "83310939",
   "metadata": {},
   "outputs": [
    {
     "name": "stdout",
     "output_type": "stream",
     "text": [
      "Accuracy: 0.9237465472503558\n"
     ]
    }
   ],
   "source": [
    "# Évaluation des performances du modèle en calculant l'exactitude (accuracy)\n",
    "accuracy1= model1.score(X_train_encoded1, y_train)\n",
    "print(\"Accuracy:\", accuracy1)"
   ]
  },
  {
   "cell_type": "code",
   "execution_count": 98,
   "id": "6c5b6509",
   "metadata": {},
   "outputs": [
    {
     "name": "stdout",
     "output_type": "stream",
     "text": [
      "Scores de chaque pli : [0.91755597 0.91462649 0.27055869 0.43858548 0.91753872]\n",
      "Score moyen : 0.6917730713002356\n"
     ]
    }
   ],
   "source": [
    "from sklearn.model_selection import cross_val_score\n",
    "# Validation croisée à 5 plis\n",
    "scores = cross_val_score(model1, X_train_encoded1, y_train, cv=5, scoring='accuracy')\n",
    "\n",
    "# Affichage des scores de chaque pli et du score moyen\n",
    "print(\"Scores de chaque pli :\", scores)\n",
    "print(\"Score moyen :\", scores.mean())\n"
   ]
  },
  {
   "cell_type": "code",
   "execution_count": 99,
   "id": "cceb2ced",
   "metadata": {},
   "outputs": [],
   "source": [
    "# Faire la prédiction sur le  jeu de données test\n",
    "y_pred = model1.predict(X_test_encoded1)"
   ]
  },
  {
   "cell_type": "code",
   "execution_count": 100,
   "id": "a902e714",
   "metadata": {},
   "outputs": [],
   "source": [
    "\n",
    "# Ajouter la prédiction en tant que colonne \"Decision\" dans le nouveau jeu de données\n",
    "test_data1['Decision'] = y_pred"
   ]
  },
  {
   "cell_type": "code",
   "execution_count": 101,
   "id": "1fdb08a6",
   "metadata": {},
   "outputs": [],
   "source": [
    "df_sub1= pd.read_csv(\"C://Users//hp//AppData//Roaming//Microsoft\\Windows\\Start Menu//Programs//Anaconda3 (32-bit)//bac-mauritanie-2022-predictive-modeling-challeng//submission_template.csv\")"
   ]
  },
  {
   "cell_type": "code",
   "execution_count": 102,
   "id": "a571c6b0",
   "metadata": {},
   "outputs": [],
   "source": [
    "\n",
    "# Ajouter la probabilité que la décision soit \"Admis\" dans le nouveau jeu de données\n",
    "y_prob = model1.predict_proba(X_test_encoded1)\n",
    "test_data1['prediction'] = y_prob[:,1]"
   ]
  },
  {
   "cell_type": "code",
   "execution_count": 103,
   "id": "1b303c2b",
   "metadata": {},
   "outputs": [
    {
     "data": {
      "text/html": [
       "<div>\n",
       "<style scoped>\n",
       "    .dataframe tbody tr th:only-of-type {\n",
       "        vertical-align: middle;\n",
       "    }\n",
       "\n",
       "    .dataframe tbody tr th {\n",
       "        vertical-align: top;\n",
       "    }\n",
       "\n",
       "    .dataframe thead th {\n",
       "        text-align: right;\n",
       "    }\n",
       "</style>\n",
       "<table border=\"1\" class=\"dataframe\">\n",
       "  <thead>\n",
       "    <tr style=\"text-align: right;\">\n",
       "      <th></th>\n",
       "      <th>Id</th>\n",
       "      <th>Predicted</th>\n",
       "    </tr>\n",
       "  </thead>\n",
       "  <tbody>\n",
       "    <tr>\n",
       "      <th>0</th>\n",
       "      <td>ID_12</td>\n",
       "      <td>NaN</td>\n",
       "    </tr>\n",
       "    <tr>\n",
       "      <th>1</th>\n",
       "      <td>ID_14</td>\n",
       "      <td>NaN</td>\n",
       "    </tr>\n",
       "    <tr>\n",
       "      <th>2</th>\n",
       "      <td>ID_15</td>\n",
       "      <td>NaN</td>\n",
       "    </tr>\n",
       "    <tr>\n",
       "      <th>3</th>\n",
       "      <td>ID_22</td>\n",
       "      <td>NaN</td>\n",
       "    </tr>\n",
       "    <tr>\n",
       "      <th>4</th>\n",
       "      <td>ID_23</td>\n",
       "      <td>NaN</td>\n",
       "    </tr>\n",
       "  </tbody>\n",
       "</table>\n",
       "</div>"
      ],
      "text/plain": [
       "      Id  Predicted\n",
       "0  ID_12        NaN\n",
       "1  ID_14        NaN\n",
       "2  ID_15        NaN\n",
       "3  ID_22        NaN\n",
       "4  ID_23        NaN"
      ]
     },
     "execution_count": 103,
     "metadata": {},
     "output_type": "execute_result"
    }
   ],
   "source": [
    "df_sub1.head()"
   ]
  },
  {
   "cell_type": "code",
   "execution_count": 104,
   "id": "973d73d6",
   "metadata": {},
   "outputs": [
    {
     "data": {
      "text/plain": [
       "array([0.98324177, 0.98812665, 0.98812665, ..., 0.98056984, 0.99090434,\n",
       "       0.9900511 ])"
      ]
     },
     "execution_count": 104,
     "metadata": {},
     "output_type": "execute_result"
    }
   ],
   "source": [
    "y_prob[:,1]"
   ]
  },
  {
   "cell_type": "code",
   "execution_count": 105,
   "id": "e9ec4706",
   "metadata": {},
   "outputs": [],
   "source": [
    "df_sub1[\"Predicted\"]=test_data1['prediction']"
   ]
  },
  {
   "cell_type": "code",
   "execution_count": 106,
   "id": "14c58f3a",
   "metadata": {},
   "outputs": [
    {
     "data": {
      "text/plain": [
       "array([0.98324177, 0.98812665, 0.9925835 , ..., 0.98056984, 0.99090434,\n",
       "       0.9900511 ])"
      ]
     },
     "execution_count": 106,
     "metadata": {},
     "output_type": "execute_result"
    }
   ],
   "source": [
    "df_sub1.Predicted.unique()"
   ]
  },
  {
   "cell_type": "code",
   "execution_count": 107,
   "id": "1d8c2af7",
   "metadata": {},
   "outputs": [],
   "source": [
    "df_sub1.to_csv('preduction_resulatbac2021.csv', index=False)"
   ]
  },
  {
   "cell_type": "code",
   "execution_count": null,
   "id": "74428c99",
   "metadata": {},
   "outputs": [],
   "source": []
  }
 ],
 "metadata": {
  "kernelspec": {
   "display_name": "Python 3 (ipykernel)",
   "language": "python",
   "name": "python3"
  },
  "language_info": {
   "codemirror_mode": {
    "name": "ipython",
    "version": 3
   },
   "file_extension": ".py",
   "mimetype": "text/x-python",
   "name": "python",
   "nbconvert_exporter": "python",
   "pygments_lexer": "ipython3",
   "version": "3.9.12"
  }
 },
 "nbformat": 4,
 "nbformat_minor": 5
}
